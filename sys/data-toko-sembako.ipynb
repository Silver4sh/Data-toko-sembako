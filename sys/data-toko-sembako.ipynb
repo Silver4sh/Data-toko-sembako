{
 "cells": [
  {
   "cell_type": "code",
   "execution_count": 1,
   "metadata": {},
   "outputs": [
    {
     "name": "stderr",
     "output_type": "stream",
     "text": [
      "c:\\Users\\51206614\\AppData\\Local\\Programs\\Python\\Python312\\Lib\\site-packages\\tqdm\\auto.py:21: TqdmWarning: IProgress not found. Please update jupyter and ipywidgets. See https://ipywidgets.readthedocs.io/en/stable/user_install.html\n",
      "  from .autonotebook import tqdm as notebook_tqdm\n"
     ]
    }
   ],
   "source": [
    "import kagglehub\n",
    "import pandas as pd\n",
    "import matplotlib.pyplot as plt\n",
    "import seaborn as sns\n",
    "from openpyxl import load_workbook\n",
    "from openpyxl.styles import Font\n",
    "\n",
    "path = kagglehub.dataset_download(\"bejopamungkas/transaksi-pembelian-penjualan-sembako\")\n",
    "\n",
    "df_pemasukan_barang = pd.read_csv(os.path.join(path, \"pemasukan barang.csv\"))\n",
    "df_penjualan_barang = pd.read_csv(os.path.join(path, \"penjualan barang.csv\"))"
   ]
  },
  {
   "cell_type": "markdown",
   "metadata": {},
   "source": [
    "### Summary Keseluruhan"
   ]
  },
  {
   "cell_type": "code",
   "execution_count": 2,
   "metadata": {},
   "outputs": [],
   "source": [
    "jml_barang_masuk = df_pemasukan_barang.groupby([pd.Grouper(key='nama.barang')]).sum().kuantum\n",
    "jml_barang_dijual = df_penjualan_barang.groupby([pd.Grouper(key='nama.barang')]).sum().kuantum\n",
    "total_pemasukan = df_penjualan_barang.groupby([pd.Grouper(key='nama.barang')]).sum().nominal\n",
    "sisa_stock = jml_barang_masuk - jml_barang_dijual"
   ]
  },
  {
   "cell_type": "markdown",
   "metadata": {},
   "source": [
    "##### Reporting"
   ]
  },
  {
   "cell_type": "code",
   "execution_count": 3,
   "metadata": {},
   "outputs": [
    {
     "name": "stdout",
     "output_type": "stream",
     "text": [
      "Laporan berhasil diekspor ke Laporan_Sembako.xlsx 🎉\n"
     ]
    }
   ],
   "source": [
    "laporan_stok = pd.DataFrame({\n",
    "    \"Barang\": jml_barang_masuk.index,\n",
    "    \"Total Masuk\": jml_barang_masuk.values,\n",
    "    \"Total Terjual\": jml_barang_dijual.values,\n",
    "    \"Sisa Stok\": sisa_stock.values\n",
    "})\n",
    "\n",
    "def format_rupiah(x):\n",
    "    return f\"Rp {x:,.0f}\".replace(\",\", \".\")\n",
    "\n",
    "pembeli = df_penjualan_barang.groupby('nama.pembeli').sum(numeric_only=True)['nominal']\n",
    "laporan_pembeli = pembeli.sort_values(ascending=False).head(10).apply(format_rupiah).reset_index()\n",
    "laporan_pembeli.columns = [\"Nama Pembeli\", \"Total Pembelian\"]\n",
    "\n",
    "laporan_penjualan_harian = df_penjualan_barang.groupby(\"tanggal\").sum(numeric_only=True)[[\"nominal\", \"kuantum\"]].reset_index()\n",
    "\n",
    "file_excel = \"Laporan_Sembako.xlsx\"\n",
    "\n",
    "with pd.ExcelWriter(file_excel, engine=\"openpyxl\") as writer:\n",
    "    laporan_stok.to_excel(writer, sheet_name=\"Stok Barang\", index=False)\n",
    "    laporan_pembeli.to_excel(writer, sheet_name=\"Top 10 Pembeli\", index=False)\n",
    "    laporan_penjualan_harian.to_excel(writer, sheet_name=\"Penjualan Harian\", index=False)\n",
    "\n",
    "wb = load_workbook(file_excel)\n",
    "for sheet in wb.sheetnames:\n",
    "    ws = wb[sheet]\n",
    "    ws[\"A1\"].font = Font(bold=True, color=\"0000FF\") \n",
    "\n",
    "wb.save(file_excel)\n",
    "\n",
    "print(f\"Laporan berhasil diekspor ke {file_excel} 🎉\")\n"
   ]
  },
  {
   "cell_type": "markdown",
   "metadata": {},
   "source": [
    "### Peringkat Pembeli"
   ]
  },
  {
   "cell_type": "code",
   "execution_count": 4,
   "metadata": {},
   "outputs": [
    {
     "data": {
      "text/plain": [
       "nama.pembeli\n",
       "ANAPSA                                      43926000.0\n",
       "ANDY                                        26105700.0\n",
       "HOLIDAY MART                                59500000.0\n",
       "Harya Sari                                  25094800.0\n",
       "KARUNIA                                     28558700.0\n",
       "KOPERASI BRI MELAWI                         32422400.0\n",
       "Langkah Jaya                                 8968000.0\n",
       "MEKAR SARI                                  38093800.0\n",
       "PT. BANK RAKYAT INDONESIA (PERSERO) Tbk.    16185000.0\n",
       "RUDIMAS                                      7380000.0\n",
       "Name: nominal, dtype: float64"
      ]
     },
     "execution_count": 4,
     "metadata": {},
     "output_type": "execute_result"
    }
   ],
   "source": [
    "pembeli.head(10)"
   ]
  },
  {
   "cell_type": "markdown",
   "metadata": {},
   "source": [
    "### Summary Per-hari"
   ]
  },
  {
   "cell_type": "code",
   "execution_count": null,
   "metadata": {},
   "outputs": [],
   "source": [
    "df_pemasukan_barang_group = df_pemasukan_barang.groupby(['tanggal', 'nama.barang'], as_index=False).sum()\n",
    "df_penjualan_barang_group = df_penjualan_barang.groupby(['tanggal', 'nama.barang','nama.pembeli'], as_index=False).sum()"
   ]
  },
  {
   "cell_type": "markdown",
   "metadata": {},
   "source": [
    "### Ploting"
   ]
  },
  {
   "cell_type": "code",
   "execution_count": null,
   "metadata": {},
   "outputs": [],
   "source": [
    "def plotting(nama_toko):\n",
    "    sns.set(style=\"whitegrid\")\n",
    "    \n",
    "    data_pemasukan = df_pemasukan_barang.groupby(['tanggal', 'nama.barang'], as_index=False).sum()\n",
    "    data_penjualan = df_penjualan_barang.groupby(['tanggal', 'nama.barang'], as_index=False).sum()\n",
    "    \n",
    "    data_pemasukan['tanggal'] = pd.to_datetime(data_pemasukan['tanggal'])\n",
    "    data_penjualan['tanggal'] = pd.to_datetime(data_penjualan['tanggal'])\n",
    "    \n",
    "    data_pemasukan_filtered = data_pemasukan[data_pemasukan['nama.barang'] == nama_toko.upper()]\n",
    "    data_penjualan_filtered = data_penjualan[data_penjualan['nama.barang'] == nama_toko.upper()]\n",
    "    \n",
    "    plt.figure(figsize=(12, 7))\n",
    "    \n",
    "    plt.plot(data_pemasukan_filtered['tanggal'], data_pemasukan_filtered['kuantum'],\n",
    "             linestyle='-', linewidth=2, markersize=8, label='Pemasukan')\n",
    "    \n",
    "    plt.plot(data_penjualan_filtered['tanggal'], data_penjualan_filtered['kuantum'],\n",
    "             linestyle='-', linewidth=2, markersize=8, label='Penjualan')\n",
    "    \n",
    "    plt.xlabel('Tanggal', fontsize=14)\n",
    "    plt.ylabel('Kuantum', fontsize=14)\n",
    "    plt.title(f\"Tren Kuantum Barang {nama_toko.upper()} (Pemasukan vs Penjualan)\", fontsize=16)\n",
    "    plt.xticks(rotation=45)\n",
    "    plt.legend(fontsize=12)\n",
    "    plt.grid(True)\n",
    "    plt.tight_layout()\n",
    "    plt.show()"
   ]
  },
  {
   "cell_type": "code",
   "execution_count": null,
   "metadata": {},
   "outputs": [],
   "source": [
    "plotting('beras')"
   ]
  },
  {
   "cell_type": "code",
   "execution_count": null,
   "metadata": {},
   "outputs": [],
   "source": [
    "import pandas as pd\n",
    "import matplotlib.pyplot as plt\n",
    "import seaborn as sns\n",
    "\n",
    "def plotting(nama_toko):\n",
    "    sns.set(style=\"whitegrid\")\n",
    "\n",
    "    # Grouping data penjualan berdasarkan tanggal dan nama pembeli\n",
    "    data_penjualan = df_penjualan_barang.groupby(['tanggal', 'nama.pembeli'], as_index=False).sum()\n",
    "\n",
    "    # Konversi tanggal menjadi datetime\n",
    "    data_penjualan['tanggal'] = pd.to_datetime(data_penjualan['tanggal'])\n",
    "\n",
    "    # Filter hanya untuk toko tertentu\n",
    "    data_penjualan_filtered = data_penjualan[data_penjualan['nama.pembeli'] == nama_toko.upper()]\n",
    "\n",
    "    # Jika data kosong, beri warning\n",
    "    if data_penjualan_filtered.empty:\n",
    "        print(f\"Tidak ada data untuk toko {nama_toko}\")\n",
    "        return\n",
    "\n",
    "    plt.figure(figsize=(10, 5))\n",
    "\n",
    "    # Menggunakan Seaborn untuk lineplot yang lebih smooth\n",
    "    sns.lineplot(x=data_penjualan_filtered['tanggal'], \n",
    "                 y=data_penjualan_filtered['nominal'] / 1_000_000,  # Menggunakan satuan juta\n",
    "                 marker='o', linewidth=2, label=\"Penjualan\")\n",
    "\n",
    "    # Format plot\n",
    "    plt.xlabel('Tanggal', fontsize=12)\n",
    "    plt.ylabel('Nominal (Juta Rupiah)', fontsize=12)\n",
    "    plt.title(f\"Tren Penjualan {nama_toko.upper()} dari Waktu ke Waktu\", fontsize=14)\n",
    "    plt.xticks(rotation=45)\n",
    "    plt.legend(fontsize=12)\n",
    "    plt.grid(True, linestyle='--', alpha=0.6)\n",
    "    plt.tight_layout()\n",
    "\n",
    "    # Tampilkan plot\n",
    "    plt.show()\n"
   ]
  }
 ],
 "metadata": {
  "kernelspec": {
   "display_name": "Python 3.12.5 64-bit",
   "language": "python",
   "name": "python3"
  },
  "language_info": {
   "codemirror_mode": {
    "name": "ipython",
    "version": 3
   },
   "file_extension": ".py",
   "mimetype": "text/x-python",
   "name": "python",
   "nbconvert_exporter": "python",
   "pygments_lexer": "ipython3",
   "version": "3.12.5"
  },
  "orig_nbformat": 4,
  "vscode": {
   "interpreter": {
    "hash": "f917450292c0fd7b86ebf9245d83c064cb9191eb8b3180531d23b37bae464590"
   }
  }
 },
 "nbformat": 4,
 "nbformat_minor": 2
}
